{
 "cells": [
  {
   "cell_type": "code",
   "execution_count": 1,
   "id": "ac8c73fe-9e95-4cc9-83fb-3e42f797580e",
   "metadata": {},
   "outputs": [],
   "source": [
    "import pandas as pd\n",
    "import random\n",
    "import math\n",
    "import osmnx as ox\n",
    "import networkx as nx\n",
    "import folium"
   ]
  },
  {
   "cell_type": "code",
   "execution_count": 5,
   "id": "59405b56-43f7-4a5a-b130-71cd08b56f3e",
   "metadata": {},
   "outputs": [],
   "source": [
    "# CONFIGURATION\n",
    "# ------------------------------------------\n",
    "# Central restaurant location (Berlin city center)\n",
    "CENTRAL_LAT, CENTRAL_LON = 52.5200, 13.4050\n",
    "\n",
    "# Number of customer locations to generate (excluding the restaurant)\n",
    "NUM_CUSTOMERS = 500\n",
    "\n",
    "# Radius (in meters) around the central point within which to sample customers\n",
    "RADIUS_METERS = 5000  \n",
    "\n",
    "# Earth's radius in meters (for converting meters to degrees)\n",
    "EARTH_RADIUS = 6371000  \n",
    "\n",
    "# Average cycling speed (km/h)\n",
    "BIKE_SPEED_KPH = 30.0\n",
    "\n",
    "# Filenames for outputs\n",
    "CUSTOMER_CSV = \"new_customer_locations.csv\"\n",
    "TRAVEL_TIME_CSV = \"travel_time_matrix.csv\"\n",
    "MAP_HTML      = \"customer_locations_map.html\"\n"
   ]
  },
  {
   "cell_type": "code",
   "execution_count": 7,
   "id": "badb93d1-f6e4-4be3-8db1-cecff1d088ac",
   "metadata": {},
   "outputs": [],
   "source": [
    "# FUNCTION: Generate one random point within a circle\n",
    "# ------------------------------------------\n",
    "def generate_random_point(lat_center: float, lon_center: float, radius: float):\n",
    "    \"\"\"\n",
    "    Generates a random latitude/longitude pair within \"radius\" meters of (lat_center, lon_center).\n",
    "\n",
    "    Uses a uniform distribution over the circle area.\n",
    "    \"\"\"\n",
    "    # Random radius (with sqrt to ensure uniform area distribution)\n",
    "    r = radius * math.sqrt(random.random())\n",
    "    # Random angle [0, 2π)\n",
    "    theta = random.random() * 2 * math.pi\n",
    "\n",
    "    # Offset in radians\n",
    "    delta_lat = (r * math.cos(theta)) / EARTH_RADIUS\n",
    "    delta_lon = (r * math.sin(theta)) / (EARTH_RADIUS * math.cos(math.radians(lat_center)))\n",
    "\n",
    "    # Convert offsets from radians to degrees\n",
    "    lat = lat_center + math.degrees(delta_lat)\n",
    "    lon = lon_center + math.degrees(delta_lon)\n",
    "    return lat, lon"
   ]
  },
  {
   "cell_type": "code",
   "execution_count": 13,
   "id": "cfa163c8-b6a6-4c7d-a51b-a48d7a202156",
   "metadata": {},
   "outputs": [],
   "source": [
    "# ------------------------------------------\n",
    "# STEP 1: Generate Customer + Restaurant Locations (lat/lon only)\n",
    "# ------------------------------------------\n",
    "locations = []\n",
    "\n",
    "# 1a) Restaurant (id = 0) at the exact center\n",
    "locations.append({\n",
    "    \"id\":     0,\n",
    "    \"lat\":    CENTRAL_LAT,\n",
    "    \"lon\":    CENTRAL_LON\n",
    "})\n",
    "\n",
    "# 1b) Generate NUM_CUSTOMERS random points within RADIUS_METERS\n",
    "for i in range(1, NUM_CUSTOMERS + 1):\n",
    "    lat, lon = generate_random_point(CENTRAL_LAT, CENTRAL_LON, RADIUS_METERS)\n",
    "    locations.append({\n",
    "        \"id\":    i,\n",
    "        \"lat\":   lat,\n",
    "        \"lon\":   lon\n",
    "    })\n",
    "\n",
    "# Build a DataFrame without osmid yet\n",
    "df_locations = pd.DataFrame(locations, columns=[\"id\", \"lat\", \"lon\"])"
   ]
  },
  {
   "cell_type": "code",
   "execution_count": 15,
   "id": "45ecbc1e-1b5e-4a40-a05a-3309d80fbcd1",
   "metadata": {},
   "outputs": [
    {
     "name": "stdout",
     "output_type": "stream",
     "text": [
      "First 5 generated locations (including restaurant at index 0):\n",
      "   id        lat        lon\n",
      "0   0  52.520000  13.405000\n",
      "1   1  52.510708  13.348160\n",
      "2   2  52.550885  13.440514\n",
      "3   3  52.520859  13.371159\n",
      "4   4  52.498688  13.429820\n"
     ]
    }
   ],
   "source": [
    "# Print first 5 locations to verify\n",
    "print(\"First 5 generated locations (including restaurant at index 0):\")\n",
    "print(df_locations.head())"
   ]
  },
  {
   "cell_type": "code",
   "execution_count": 19,
   "id": "3695e208-5aa7-4391-9194-cfa5fa737458",
   "metadata": {},
   "outputs": [
    {
     "name": "stdout",
     "output_type": "stream",
     "text": [
      "Downloading Berlin cycling network (within 5 km)…\n"
     ]
    }
   ],
   "source": [
    "# STEP 2: Download Berlin Street Network via OSMnx\n",
    "# ------------------------------------------\n",
    "print(\"Downloading Berlin cycling network (within 5 km)…\")\n",
    "# Use driving network as base\n",
    "G = ox.graph_from_point(\n",
    "    (CENTRAL_LAT, CENTRAL_LON),\n",
    "    dist=RADIUS_METERS,\n",
    "    network_type=\"drive\"\n",
    ")"
   ]
  },
  {
   "cell_type": "code",
   "execution_count": 21,
   "id": "8050dc0b-7657-4589-b3fb-96d76968f860",
   "metadata": {},
   "outputs": [
    {
     "name": "stdout",
     "output_type": "stream",
     "text": [
      "Assigning bike travel times to each edge…\n"
     ]
    }
   ],
   "source": [
    "# STEP 3: Assign Uniform Bike Speed and Compute Travel Times\n",
    "# ------------------------------------------\n",
    "print(\"Assigning bike travel times to each edge…\")\n",
    "bike_speed_ms = (BIKE_SPEED_KPH * 1000) / 3600.0\n",
    "\n",
    "for u, v, key, data in G.edges(keys=True, data=True):\n",
    "    length_m = data.get('length', 0)\n",
    "    travel_time_sec = length_m / bike_speed_ms\n",
    "    data['travel_time'] = travel_time_sec"
   ]
  },
  {
   "cell_type": "code",
   "execution_count": 23,
   "id": "e168c99a-8a21-42fc-bbf8-949253d1869e",
   "metadata": {},
   "outputs": [
    {
     "name": "stdout",
     "output_type": "stream",
     "text": [
      "Finding nearest network node for each location and setting osmid…\n"
     ]
    }
   ],
   "source": [
    "# STEP 4: Snap Each Location to Its Nearest OSM Node and Set osmid\n",
    "# ------------------------------------------\n",
    "print(\"Finding nearest network node for each location and setting osmid…\")\n",
    "node_ids = []\n",
    "for idx, row in df_locations.iterrows():\n",
    "    node_id = ox.distance.nearest_nodes(G, X=row[\"lon\"], Y=row[\"lat\"])\n",
    "    node_ids.append(node_id)\n",
    "# Add osmid column based on nearest node\n",
    "df_locations['osmid'] = node_ids"
   ]
  },
  {
   "cell_type": "code",
   "execution_count": 25,
   "id": "f4bf1b9d-c958-4a55-abee-fbb958e95bd8",
   "metadata": {},
   "outputs": [
    {
     "name": "stdout",
     "output_type": "stream",
     "text": [
      "Computing travel time matrix (in minutes)…\n",
      "Saved travel time matrix to 'travel_time_matrix.csv'\n"
     ]
    }
   ],
   "source": [
    "# STEP 5: Compute Full-Pairwise Travel Time Matrix (minutes)\n",
    "# ------------------------------------------\n",
    "print(\"Computing travel time matrix (in minutes)…\")\n",
    "# Prepare a DataFrame indexed/columned by id\n",
    "travel_time_df = pd.DataFrame(\n",
    "    index=df_locations['id'],\n",
    "    columns=df_locations['id'],\n",
    "    dtype=float\n",
    ")\n",
    "\n",
    "# For each source node, compute shortest paths\n",
    "for i, src_node in enumerate(node_ids):\n",
    "    src_id = df_locations.at[i, 'id']\n",
    "    lengths_sec = nx.single_source_dijkstra_path_length(G, src_node, weight='travel_time')\n",
    "    for j, tgt_node in enumerate(node_ids):\n",
    "        tgt_id = df_locations.at[j, 'id']\n",
    "        t_sec = lengths_sec.get(tgt_node, float('nan'))\n",
    "        travel_time_df.at[src_id, tgt_id] = t_sec / 60.0\n",
    "\n",
    "# Save travel time matrix to CSV\n",
    "travel_time_df.to_csv(TRAVEL_TIME_CSV, float_format=\"%.2f\")\n",
    "print(f\"Saved travel time matrix to '{TRAVEL_TIME_CSV}'\")"
   ]
  },
  {
   "cell_type": "code",
   "execution_count": 27,
   "id": "72d7eb3f-911c-48d6-a66f-6d807764cc69",
   "metadata": {},
   "outputs": [
    {
     "name": "stdout",
     "output_type": "stream",
     "text": [
      "Saved 501 locations with osmid to 'new_customer_locations.csv'\n"
     ]
    }
   ],
   "source": [
    "# STEP 6: Save Customer Locations with osmid to CSV\n",
    "# ------------------------------------------\n",
    "# Reorder columns to id, osmid, lat, lon\n",
    "df_locations = df_locations[['id', 'osmid', 'lat', 'lon']]\n",
    "df_locations.to_csv(CUSTOMER_CSV, index=False)\n",
    "print(f\"Saved {len(df_locations)} locations with osmid to '{CUSTOMER_CSV}'\")\n"
   ]
  },
  {
   "cell_type": "code",
   "execution_count": 29,
   "id": "e061be00-fc32-466d-8b87-dce44c08c2ac",
   "metadata": {},
   "outputs": [
    {
     "name": "stdout",
     "output_type": "stream",
     "text": [
      "Creating interactive map (HTML)…\n",
      "Saved map to 'customer_locations_map.html'\n",
      "All done! Files generated:\n",
      " • Customer locations CSV: new_customer_locations.csv\n",
      " • Travel time matrix CSV: travel_time_matrix.csv\n",
      " • Interactive map HTML:    customer_locations_map.html\n"
     ]
    }
   ],
   "source": [
    "# STEP 7: Plot All Points on a Folium Map\n",
    "# ------------------------------------------\n",
    "print(\"Creating interactive map (HTML)…\")\n",
    "m = folium.Map(location=[CENTRAL_LAT, CENTRAL_LON], zoom_start=13)\n",
    "\n",
    "# 7a) Restaurant marker (id = 0) in red\n",
    "folium.CircleMarker(\n",
    "    location=[CENTRAL_LAT, CENTRAL_LON],\n",
    "    radius=7,\n",
    "    color=\"red\",\n",
    "    fill=True,\n",
    "    fill_color=\"red\",\n",
    "    popup=f\"Restaurant (ID 0, OSMID {df_locations.at[0, 'osmid']})\"\n",
    ").add_to(m)\n",
    "\n",
    "# 7b) Customer markers in blue\n",
    "for idx, row in df_locations[df_locations['id'] != 0].iterrows():\n",
    "    folium.CircleMarker(\n",
    "        location=[row['lat'], row['lon']],\n",
    "        radius=3,\n",
    "        color=\"blue\",\n",
    "        fill=True,\n",
    "        popup=f\"Customer ID {int(row['id'])}, OSMID {int(row['osmid'])}\"\n",
    "    ).add_to(m)\n",
    "\n",
    "# Save to HTML\n",
    "m.save(MAP_HTML)\n",
    "print(f\"Saved map to '{MAP_HTML}'\")\n",
    "\n",
    "print(\"All done! Files generated:\")\n",
    "print(f\" • Customer locations CSV: {CUSTOMER_CSV}\")\n",
    "print(f\" • Travel time matrix CSV: {TRAVEL_TIME_CSV}\")\n",
    "print(f\" • Interactive map HTML:    {MAP_HTML}\")"
   ]
  },
  {
   "cell_type": "code",
   "execution_count": null,
   "id": "6c51cf57-dc9e-42fd-a03c-0de44d4d294e",
   "metadata": {},
   "outputs": [],
   "source": []
  },
  {
   "cell_type": "code",
   "execution_count": null,
   "id": "aa04ea97-f82e-4b7e-94a6-10ef64857479",
   "metadata": {},
   "outputs": [],
   "source": []
  },
  {
   "cell_type": "markdown",
   "id": "0a03aecc-aadf-45e3-82e9-68b98d572ac4",
   "metadata": {},
   "source": [
    "dwqdas"
   ]
  },
  {
   "cell_type": "code",
   "execution_count": null,
   "id": "aa86ec3f-cf05-47cd-886c-2b55093966d0",
   "metadata": {},
   "outputs": [],
   "source": []
  }
 ],
 "metadata": {
  "kernelspec": {
   "display_name": "Python 3 (ipykernel)",
   "language": "python",
   "name": "python3"
  },
  "language_info": {
   "codemirror_mode": {
    "name": "ipython",
    "version": 3
   },
   "file_extension": ".py",
   "mimetype": "text/x-python",
   "name": "python",
   "nbconvert_exporter": "python",
   "pygments_lexer": "ipython3",
   "version": "3.12.3"
  }
 },
 "nbformat": 4,
 "nbformat_minor": 5
}
